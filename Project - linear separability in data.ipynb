{
 "cells": [
  {
   "cell_type": "markdown",
   "metadata": {},
   "source": [
    "# Project - linear separability in data\n"
   ]
  },
  {
   "cell_type": "markdown",
   "metadata": {},
   "source": [
    "The objective of the project is to analyse the \"Speaker Accent Recognition Dataset\" from the UCI Machine Learning Repository. The task is to determine if the dataset is linearly separable in the feature space defined by the linear Principal Component Analysis (PCA) or in the feature space defined by the non-linear PCA with the use of the Radial Basis Function Kernel. "
   ]
  },
  {
   "cell_type": "markdown",
   "metadata": {},
   "source": [
    "## Part A - Data visualization\n",
    "Part A of the project focuses on visualizing the data in the 2-D feature space defined by the top 2 linear principal components based on SVD."
   ]
  },
  {
   "cell_type": "code",
   "execution_count": 1,
   "metadata": {},
   "outputs": [],
   "source": [
    "#Import the libraries required for the project\n",
    "import numpy as np\n",
    "import pandas as pd\n",
    "import matplotlib.pyplot as plt\n",
    "import seaborn as sns\n",
    "from IPython.utils import io\n",
    "%matplotlib inline"
   ]
  },
  {
   "cell_type": "code",
   "execution_count": 2,
   "metadata": {},
   "outputs": [],
   "source": [
    "#setting the random seed for the notebook reproducibility \n",
    "np.random.seed(111)"
   ]
  },
  {
   "cell_type": "code",
   "execution_count": 3,
   "metadata": {},
   "outputs": [],
   "source": [
    "#reading the dataset as a dataframe\n",
    "data = pd.read_csv(\"C:\\\\Users\\\\spzvl\\\\Downloads\\\\accent-mfcc-data-1.data\", header = None)"
   ]
  },
  {
   "cell_type": "code",
   "execution_count": 4,
   "metadata": {},
   "outputs": [
    {
     "data": {
      "text/html": [
       "<div>\n",
       "<style scoped>\n",
       "    .dataframe tbody tr th:only-of-type {\n",
       "        vertical-align: middle;\n",
       "    }\n",
       "\n",
       "    .dataframe tbody tr th {\n",
       "        vertical-align: top;\n",
       "    }\n",
       "\n",
       "    .dataframe thead th {\n",
       "        text-align: right;\n",
       "    }\n",
       "</style>\n",
       "<table border=\"1\" class=\"dataframe\">\n",
       "  <thead>\n",
       "    <tr style=\"text-align: right;\">\n",
       "      <th></th>\n",
       "      <th>0</th>\n",
       "      <th>1</th>\n",
       "      <th>2</th>\n",
       "      <th>3</th>\n",
       "      <th>4</th>\n",
       "      <th>5</th>\n",
       "      <th>6</th>\n",
       "      <th>7</th>\n",
       "      <th>8</th>\n",
       "      <th>9</th>\n",
       "      <th>10</th>\n",
       "      <th>11</th>\n",
       "      <th>12</th>\n",
       "    </tr>\n",
       "  </thead>\n",
       "  <tbody>\n",
       "    <tr>\n",
       "      <th>0</th>\n",
       "      <td>ES</td>\n",
       "      <td>7.071476</td>\n",
       "      <td>-6.512900</td>\n",
       "      <td>7.650800</td>\n",
       "      <td>11.150783</td>\n",
       "      <td>-7.657312</td>\n",
       "      <td>12.484021</td>\n",
       "      <td>-11.709772</td>\n",
       "      <td>3.426596</td>\n",
       "      <td>1.462715</td>\n",
       "      <td>-2.812753</td>\n",
       "      <td>0.866538</td>\n",
       "      <td>-5.244274</td>\n",
       "    </tr>\n",
       "    <tr>\n",
       "      <th>1</th>\n",
       "      <td>ES</td>\n",
       "      <td>10.982967</td>\n",
       "      <td>-5.157445</td>\n",
       "      <td>3.952060</td>\n",
       "      <td>11.529381</td>\n",
       "      <td>-7.638047</td>\n",
       "      <td>12.136098</td>\n",
       "      <td>-12.036247</td>\n",
       "      <td>3.491943</td>\n",
       "      <td>0.595441</td>\n",
       "      <td>-4.508811</td>\n",
       "      <td>2.332147</td>\n",
       "      <td>-6.221857</td>\n",
       "    </tr>\n",
       "    <tr>\n",
       "      <th>2</th>\n",
       "      <td>ES</td>\n",
       "      <td>7.827108</td>\n",
       "      <td>-5.477472</td>\n",
       "      <td>7.816257</td>\n",
       "      <td>9.187592</td>\n",
       "      <td>-7.172511</td>\n",
       "      <td>11.715299</td>\n",
       "      <td>-13.847214</td>\n",
       "      <td>4.574075</td>\n",
       "      <td>-1.687559</td>\n",
       "      <td>-7.204041</td>\n",
       "      <td>-0.011847</td>\n",
       "      <td>-6.463144</td>\n",
       "    </tr>\n",
       "    <tr>\n",
       "      <th>3</th>\n",
       "      <td>ES</td>\n",
       "      <td>6.744083</td>\n",
       "      <td>-5.688920</td>\n",
       "      <td>6.546789</td>\n",
       "      <td>9.000183</td>\n",
       "      <td>-6.924963</td>\n",
       "      <td>11.710766</td>\n",
       "      <td>-12.374388</td>\n",
       "      <td>6.169879</td>\n",
       "      <td>-0.544747</td>\n",
       "      <td>-6.019237</td>\n",
       "      <td>1.358559</td>\n",
       "      <td>-6.356441</td>\n",
       "    </tr>\n",
       "    <tr>\n",
       "      <th>4</th>\n",
       "      <td>ES</td>\n",
       "      <td>5.836843</td>\n",
       "      <td>-5.326557</td>\n",
       "      <td>7.472265</td>\n",
       "      <td>8.847440</td>\n",
       "      <td>-6.773244</td>\n",
       "      <td>12.677218</td>\n",
       "      <td>-12.315061</td>\n",
       "      <td>4.416344</td>\n",
       "      <td>0.193500</td>\n",
       "      <td>-3.644812</td>\n",
       "      <td>2.151239</td>\n",
       "      <td>-6.816310</td>\n",
       "    </tr>\n",
       "  </tbody>\n",
       "</table>\n",
       "</div>"
      ],
      "text/plain": [
       "   0          1         2         3          4         5          6   \\\n",
       "0  ES   7.071476 -6.512900  7.650800  11.150783 -7.657312  12.484021   \n",
       "1  ES  10.982967 -5.157445  3.952060  11.529381 -7.638047  12.136098   \n",
       "2  ES   7.827108 -5.477472  7.816257   9.187592 -7.172511  11.715299   \n",
       "3  ES   6.744083 -5.688920  6.546789   9.000183 -6.924963  11.710766   \n",
       "4  ES   5.836843 -5.326557  7.472265   8.847440 -6.773244  12.677218   \n",
       "\n",
       "          7         8         9         10        11        12  \n",
       "0 -11.709772  3.426596  1.462715 -2.812753  0.866538 -5.244274  \n",
       "1 -12.036247  3.491943  0.595441 -4.508811  2.332147 -6.221857  \n",
       "2 -13.847214  4.574075 -1.687559 -7.204041 -0.011847 -6.463144  \n",
       "3 -12.374388  6.169879 -0.544747 -6.019237  1.358559 -6.356441  \n",
       "4 -12.315061  4.416344  0.193500 -3.644812  2.151239 -6.816310  "
      ]
     },
     "execution_count": 4,
     "metadata": {},
     "output_type": "execute_result"
    }
   ],
   "source": [
    "#displaying the first 5 rows of the dataset\n",
    "data.head()"
   ]
  },
  {
   "cell_type": "code",
   "execution_count": 5,
   "metadata": {},
   "outputs": [],
   "source": [
    "X = data.iloc[:,1:]\n",
    "labels = data[0]"
   ]
  },
  {
   "cell_type": "code",
   "execution_count": 6,
   "metadata": {},
   "outputs": [],
   "source": [
    "#The single value decomposition function. Takes in the feature vectors and the number of PC wanted.\n",
    "def SVD(X, num_pc = 2):\n",
    "    #centering the features\n",
    "    X = X.apply(lambda x: x-x.mean())\n",
    "    \n",
    "    #Perform SVD using numpy\n",
    "    U, S, V = np.linalg.svd(X, full_matrices = True)\n",
    "    #Return the top 2 required principal components\n",
    "    return V[0: num_pc,]"
   ]
  },
  {
   "cell_type": "code",
   "execution_count": 7,
   "metadata": {},
   "outputs": [],
   "source": [
    "#Execute the SVD function and perform the change of basis.\n",
    "TopPC = SVD(X)\n",
    "changeBasis = np.dot(X, TopPC.T)\n",
    "#Add the ground truth labels to the new dataset\n",
    "df_changeBasis = pd.DataFrame(changeBasis)\n",
    "df_changeBasis[\"label\"] = labels"
   ]
  },
  {
   "cell_type": "code",
   "execution_count": 8,
   "metadata": {},
   "outputs": [
    {
     "data": {
      "text/plain": [
       "<matplotlib.legend.Legend at 0x19dc86dad90>"
      ]
     },
     "execution_count": 8,
     "metadata": {},
     "output_type": "execute_result"
    },
    {
     "data": {
      "image/png": "[encoded data removed]",
      "text/plain": [
       "<Figure size 1008x648 with 1 Axes>"
      ]
     },
     "metadata": {},
     "output_type": "display_data"
    }
   ],
   "source": [
    "#Visualising the 2-D feature space.\n",
    "colors = {'ES':'tab:blue', 'US':'tab:orange', 'UK':'tab:green', 'FR':'tab:red', 'IT':'tab:purple', 'GE':'tab:brown'}\n",
    "labels = {'ES':'blue', 'US':'orange', 'UK':'green', 'FR':'red', 'IT':'purple', 'GE':'brown'}\n",
    "#Utilising the seaborn easthetics and setting an appropriate figure size\n",
    "sns.set(rc={'figure.figsize':(14,9)})\n",
    "#instantiating the scatter plot\n",
    "plt.scatter(df_changeBasis[0], df_changeBasis[1], c = df_changeBasis[\"label\"].map(colors), label = labels )\n",
    "plt.legend()"
   ]
  },
  {
   "cell_type": "markdown",
   "metadata": {},
   "source": [
    "The plot showing the dataset in the 2-D feature space defined by the Principal Components.\n",
    "\n",
    "From the visual analysis of the plot, it is clear that the dataset is not linearly separable in this feature space, since we cannot plot straight line(s) separating the points into distinct clusters.\n",
    "There are points belonging to the US label (orange) that are located further away along the x-axis and the y-axis from the rest of the dataset, however other points from the US label are mixed with the rest of the accents. Furthermore, other accent labels are located close to each other, forming no obvious groups. \n"
   ]
  },
  {
   "cell_type": "markdown",
   "metadata": {},
   "source": [
    "## Part B - Determining if the dataset is linearly separable\n",
    "  Part B of the project is further split into 3 parts:\n",
    "- B1 is concerned with checking linear separability in the original feature space\n",
    "- B2 is focused on detecting linear separability in the feature space defined by linear PCA\n",
    "- B3 implements non-linear PCA with all possible feature vectors to identify separability."
   ]
  },
  {
   "cell_type": "markdown",
   "metadata": {},
   "source": [
    "The following is the implementation of the binary perceptron, which will be used in Part B of the project."
   ]
  },
  {
   "cell_type": "code",
   "execution_count": 9,
   "metadata": {},
   "outputs": [],
   "source": [
    "#The implementation of Binary perceptron. Takes in the feature vectors, the label (accent), and the\n",
    "#number of maximum allowed algorithm iterations is specified.\n",
    "def PerceptronBinary(X,y_true, label, max_iter = 10):\n",
    "    initMaxIter = max_iter\n",
    "    #creating an empty weight vector\n",
    "    w = np.zeros((len(X.T),1)).flatten()\n",
    "    \n",
    "    err = 1\n",
    "    #loop continues until error is 0 or until reached the max number of iterations\n",
    "    while  max_iter <=initMaxIter and err != 0:\n",
    "        err = 0\n",
    "        #The alternative for one hot encoding. This does not permanently encode the features.\n",
    "        #It simplifies the implementation of multi-class perceptron. \n",
    "        #If the current label (accent) matches the ground truth, label it as 1 and -1 otherwise.\n",
    "        for i in range(len(X)):\n",
    "            if y_true.iloc[i] == label:\n",
    "                y = 1\n",
    "            else:\n",
    "                y=-1\n",
    "                \n",
    "            #the observed error is calculated\n",
    "            e_obs = np.sign(np.matmul(w,X.iloc[i])) - y\n",
    "            #if the error is not 0, update the weights.\n",
    "            if e_obs !=0:\n",
    "                err = 1\n",
    "                w += y * X.iloc[i]\n",
    "        #increase the loop while loop iteration counter.        \n",
    "        print(\"while loop iteration: \", max_iter)        \n",
    "        max_iter+=1\n",
    "        #print(w)\n",
    "\n",
    "    #returns the trained weights.                    \n",
    "    return w    "
   ]
  },
  {
   "cell_type": "markdown",
   "metadata": {},
   "source": [
    "The softmax function will also be utilised in part B of the project"
   ]
  },
  {
   "cell_type": "code",
   "execution_count": 10,
   "metadata": {},
   "outputs": [],
   "source": [
    "#The softMax helper function is used by the multi-class perceptron. It forces the highest\n",
    "#score classifier to be the correct one.\n",
    "#It takes in the dictionary of accents(keys) and trained weights(values). It outputs the dictionary\n",
    "#with softmax applied to it.\n",
    "def softMaxLoss(dictionary):\n",
    "    l = []\n",
    "    for i in dictionary:\n",
    "        l.append(dictionary[i])\n",
    "        \n",
    "    arr = np.array(l) \n",
    "    sm = (np.exp(arr-np.max(arr)))\n",
    "    res_arr = sm/sm.sum(axis=0)\n",
    "    res_dictionary = {}\n",
    "    j = 0\n",
    "    for i in dictionary:\n",
    "        res_dictionary[i] = res_arr[j]\n",
    "        j+=1\n",
    "    \n",
    "    return res_dictionary"
   ]
  },
  {
   "cell_type": "markdown",
   "metadata": {},
   "source": [
    "### Part B1"
   ]
  },
  {
   "cell_type": "markdown",
   "metadata": {},
   "source": [
    "The implementation of the multi-class perceptron. It works by training binary perceptrons, such that binary perceptron c outputs the score associated with the confidence that sample i belongs to class c (with softmax applied to it). Consequently, the label of the binary perceptron with the highest probability is selected as the predicted label."
   ]
  },
  {
   "cell_type": "code",
   "execution_count": 11,
   "metadata": {},
   "outputs": [],
   "source": [
    "#The function take in the whole dataset and the maximum allowed number of iterations. \n",
    "def MultiClass(data, iterations = 10):\n",
    "    \n",
    "    #creating a bias which will be added to the feature vectors\n",
    "    bias = pd.DataFrame(np.ones((len(data),1)), columns = [\"bias\"])\n",
    "    #defining a dictionary of weights\n",
    "    weights = {}\n",
    "    \n",
    "    #loop over all possible accents\n",
    "    for i in data[0].unique():\n",
    "        #re-shuffle the dataset as required\n",
    "        data = data.sample(frac=1, random_state=111).reset_index(drop=True)\n",
    "        #select the feature vectors\n",
    "        X = data.iloc[:,1:]\n",
    "        #add the bias to the feature vectors\n",
    "        X = pd.merge(X, bias, left_index=True, right_index = True)\n",
    "        #train the weights associated with each accent.\n",
    "        weights[i] = PerceptronBinary(X, data[0], i, max_iter = iterations)\n",
    "        \n",
    "    #define a dataframe used for comparing the predictions to ground truth.\n",
    "    pred_labels = pd.DataFrame(columns=[\"label\"])\n",
    "    \n",
    "    #loop through each sample of the dataset. Calculate the scores for each sample by multiplying the\n",
    "    #trained weights by the feature vectors and store them in a temporary dictionary.\n",
    "    for i in range(len(data)):\n",
    "        temp = {}\n",
    "        for j in data[0].unique():\n",
    "            temp[j] = np.dot(weights[j], X.iloc[i].T)\n",
    "\n",
    "        #apply softmax to the scores\n",
    "        temp = softMaxLoss(temp)\n",
    "        #take the highest score label and place it in the dataframe storing the predicted labels.\n",
    "        pred_labels.loc[len(pred_labels)] = [max(temp, key = temp.get)]\n",
    "        \n",
    "    #counter of the number of correctly predicted labels.    \n",
    "    corr = 0\n",
    "    \n",
    "    #error breakdown for future analysis.\n",
    "    print(\"breakdown of predicted values: \")\n",
    "    print(pred_labels[\"label\"].value_counts())\n",
    "    print(\"breakdown of actual values: \")\n",
    "    print(data[0].value_counts())\n",
    "    \n",
    "    #calculating the accuracy score.\n",
    "    for i in range(len(pred_labels)):\n",
    "        if pred_labels[\"label\"][i] == data[0][i]:\n",
    "            corr +=1\n",
    "    acc = corr/len(pred_labels)\n",
    "    \n",
    "    #return the accuracy.\n",
    "    print(\"Accuracy: \")\n",
    "    return acc"
   ]
  },
  {
   "cell_type": "code",
   "execution_count": 12,
   "metadata": {},
   "outputs": [
    {
     "name": "stdout",
     "output_type": "stream",
     "text": [
      "while loop iteration:  10\n",
      "while loop iteration:  10\n",
      "while loop iteration:  10\n",
      "while loop iteration:  10\n",
      "while loop iteration:  10\n",
      "while loop iteration:  10\n",
      "breakdown of predicted values: \n",
      "US    129\n",
      "FR     83\n",
      "IT     49\n",
      "GE     38\n",
      "UK     17\n",
      "ES     13\n",
      "Name: label, dtype: int64\n",
      "breakdown of actual values: \n",
      "US    165\n",
      "UK     45\n",
      "GE     30\n",
      "IT     30\n",
      "FR     30\n",
      "ES     29\n",
      "Name: 0, dtype: int64\n",
      "Accuracy: \n"
     ]
    },
    {
     "data": {
      "text/plain": [
       "0.5805471124620061"
      ]
     },
     "execution_count": 12,
     "metadata": {},
     "output_type": "execute_result"
    }
   ],
   "source": [
    "MultiClass(data)"
   ]
  },
  {
   "cell_type": "markdown",
   "metadata": {},
   "source": [
    "From the output of the multi-class perceptron shown above, it can be deduced that the dataset is not linearly separable in its original feature space. This is because the accuracy of the perceptron does not achieve a value close to 100% when predicting the accent. When a dataset is linearly separable in a given feature space, the single layer perceptron implementation trained and tested on the whole dataset will achieve accuracy close to 100%."
   ]
  },
  {
   "cell_type": "markdown",
   "metadata": {},
   "source": [
    "### Part B2"
   ]
  },
  {
   "cell_type": "markdown",
   "metadata": {},
   "source": [
    "The following function implements the multi-class perceptron on the feature spaces defined by linear PCA. It is then tested by a small gridsearch, and the accuracy is visualised."
   ]
  },
  {
   "cell_type": "code",
   "execution_count": 13,
   "metadata": {},
   "outputs": [],
   "source": [
    "#Inputs are the dataset, the maximum number of iterations and the number of PC that should be used.\n",
    "def MultiClassPC(data, iterations = 10, num_pc = 3):\n",
    "    \n",
    "    #creating bias that will be added to the data\n",
    "    bias = pd.DataFrame(np.ones((len(data),1)), columns = [\"bias\"])\n",
    "    #re-shuffle the dataset following the requirements.\n",
    "    data = data.sample(frac=1, random_state=111).reset_index(drop=True)\n",
    "    #add the bias to the dataset\n",
    "    data = pd.merge(data, bias, left_index=True, right_index = True)\n",
    "    \n",
    "    #extract the feature vectors with the bias.\n",
    "    X = data.iloc[:,1:]\n",
    "    #re-use the SVD function defined earlier to calculate the required number of principal components.\n",
    "    X_pc = SVD(X, num_pc = num_pc)\n",
    "    pc_cols = []\n",
    "    for i in range(1, num_pc+1):\n",
    "        pc_cols.append(i)\n",
    "    #store the principal components in a dataframe.        \n",
    "    X = pd.DataFrame(columns = pc_cols, data = X_pc.T)\n",
    "    print(X)\n",
    "    weights = {}\n",
    "    for i in data[0].unique():\n",
    "        #train the weights in the space defined by the principal components.\n",
    "        weights[i] = PerceptronBinary(X, data[0], i, max_iter = iterations)\n",
    "        \n",
    "    #create a dataframe for storing the predicted labels.\n",
    "    pred_labels = pd.DataFrame(columns=[\"label\"])\n",
    "    #Multiply te data by the principal components to perform the change of basis.\n",
    "    x_arr = np.array(data.iloc[:,1:].values.tolist())\n",
    "    x_arr = np.dot(x_arr, X_pc.T)\n",
    "    \n",
    "   #loop through each sample of the dataset. Calculate the scores for each sample by multiplying the\n",
    "    #trained weights by the feature vectors and store them in a temporary dictionary.\n",
    "    for i in range(len(data)):\n",
    "        temp = {}\n",
    "        for j in data[0].unique():\n",
    "            temp[j] = np.dot(weights[j], x_arr.T)[i]\n",
    "        print(temp)\n",
    "        #apply softmax to the scores\n",
    "        temp = softMaxLoss(temp)\n",
    "        #take the highest score label and place it in the dataframe storing the predicted labels.\n",
    "        pred_labels.loc[len(pred_labels)] = [max(temp, key = temp.get)]\n",
    "        \n",
    "    #counter of the number of correctly predicted labels.         \n",
    "    corr = 0\n",
    "    \n",
    "    #error breakdown for future analysis.\n",
    "    print(\"breakdown of predicted values: \")\n",
    "    print(pred_labels[\"label\"].value_counts())\n",
    "    print(\"breakdown of actual values: \")\n",
    "    print(data[0].value_counts())\n",
    "    \n",
    "    #calculating the accuracy score.\n",
    "    for i in range(len(pred_labels)):\n",
    "        if pred_labels[\"label\"][i] == data[0][i]:\n",
    "            corr +=1\n",
    "    acc = corr/len(pred_labels)\n",
    "    \n",
    "    #return the accuracy\n",
    "    return acc"
   ]
  },
  {
   "cell_type": "code",
   "execution_count": 14,
   "metadata": {},
   "outputs": [],
   "source": [
    "#Function performs a small grid search for illustrative purposes only. Coveres the range of the PCs\n",
    "#and calculates the accuracy of multi-class perceptron with a certain number of PCs used.\n",
    "def GridSearch(num_pc_range, data):\n",
    "    #ignoring the print statements to make the output more concise \n",
    "    with io.capture_output() as captured:\n",
    "        #create a dataframe storing the grid search results\n",
    "        results = pd.DataFrame(columns = [\"Accuracy\", \"Num_PC\"])\n",
    "        #loop through the range of principal components\n",
    "        for i in num_pc_range:\n",
    "            #calculate the accuracy and store the results in the dataframe.\n",
    "            acc = MultiClassPC(data, num_pc = i, iterations = 10)\n",
    "            results.loc[len(results)] = [acc, i]\n",
    "        #visualise the resulting dataframe.    \n",
    "        sns.color_palette(\"Spectral\", as_cmap=True)        \n",
    "        sns.lineplot(data = results, y = \"Accuracy\", x = \"Num_PC\") "
   ]
  },
  {
   "cell_type": "code",
   "execution_count": 15,
   "metadata": {},
   "outputs": [
    {
     "data": {
      "image/png": "[encoded data removed]",
      "text/plain": [
       "<Figure size 1008x648 with 1 Axes>"
      ]
     },
     "metadata": {},
     "output_type": "display_data"
    }
   ],
   "source": [
    "#Using Seaborn aesthetics, set the appropriate figure size, and execute the grid search. \n",
    "sns.set(rc={'figure.figsize':(14,9)})\n",
    "pc_range = [2,3,4,5,6,7,8,9,10,11,12]\n",
    "GridSearch(pc_range,  data)"
   ]
  },
  {
   "cell_type": "markdown",
   "metadata": {},
   "source": [
    "The plot above shows the performance of the multi-class perceptron in all possible feature spaces defined by linear PCA.\n",
    "\n",
    "The plot indicates a general upward trend in terms of the prediction accuracy as the number of principal components used increases. There are 2 significant reductions in accuracy when 6 and 8 principal components are used. This can be attributed to random chance, since the data was shuffled at each iteration and the order of data on which the perceptron is trained can greatly affect the accuracy of prediction. This can be explained by the logic behind the perceptron algorithm, which is forced to stop executing when it is no longer making errors, potentially causing it to find local minimums and preventing it from finding the optimal solution.  \n",
    "It is evident that the dataset is not linearly separable in this case as well, since the accuracy of prediction remains far from 100% even when all 12 principal components are utilised."
   ]
  },
  {
   "cell_type": "markdown",
   "metadata": {},
   "source": [
    "### Part B3"
   ]
  },
  {
   "cell_type": "markdown",
   "metadata": {},
   "source": [
    "The following function creates the RBF kernel and normalises it. It follows the formula of the RBF kernel: k(xi, xj) = exp(-lam||xi-xj||^2)"
   ]
  },
  {
   "cell_type": "code",
   "execution_count": 16,
   "metadata": {},
   "outputs": [],
   "source": [
    "#Inputs are the dataset and the value of sigma.\n",
    "#Sigma is 1 by default, will be updated using the functions below.\n",
    "def kernelRBF(data, sig = 1):\n",
    "    #specify the lambda\n",
    "    lam = 1/(2*sig**2)\n",
    "    #extract the feature vectors\n",
    "    X = data.iloc[:,1:]\n",
    "    #Define the normalisation matrix.\n",
    "    A_vals =  len(X)\n",
    "    A = np.full((A_vals,A_vals), (1/A_vals))\n",
    "    #define the size of kernel.\n",
    "    kernel = np.zeros((len(data),len(data)))\n",
    "    #loop through the data to create the RBF kernel.\n",
    "    for i in range(len(X)):\n",
    "        for j in range(len(X)):\n",
    "            \n",
    "            val = np.exp(-lam*((np.linalg.norm(X.iloc[i,:] - X.iloc[j,:]))**2))\n",
    "            kernel[i][j] = val\n",
    "    #normalize the kernel.\n",
    "    normalized_kernel = kernel - np.matmul(A,kernel) - np.matmul(kernel,A) + np.matmul(np.matmul(A,kernel),A)\n",
    "    print(\"Kernel created and normalized\")\n",
    "    print(\"Kernel shape: \", kernel.shape)\n",
    "    #returns the kernel \n",
    "    return pd.DataFrame(normalized_kernel), lam"
   ]
  },
  {
   "cell_type": "markdown",
   "metadata": {},
   "source": [
    "The following function is the implementation of multi-class perceptron on the data mapped to a very high dimensional feature space by the RBF kernel."
   ]
  },
  {
   "cell_type": "code",
   "execution_count": 17,
   "metadata": {},
   "outputs": [],
   "source": [
    "#The inputs are the original data, the data mapped by the kernel, the max number of iterations,\n",
    "#the dimensionality of the feature vectors, and sigma.\n",
    "def multiClassPerceptronKernel(data, kernel_data, iterations = 10 , num_pc=329, sig = 1):\n",
    "    #the computed mapping is reduced to the required size.\n",
    "    data_rbf = kernel_data.iloc[:,:num_pc]\n",
    "\n",
    "    #weight dictionary defined\n",
    "    weights = {}\n",
    "    #loop through all of the accent labels\n",
    "    for i in data[0].unique():\n",
    "        #train the weights on the mapped data.\n",
    "        weights[i] = PerceptronBinary(data_rbf, data[0], i, max_iter = iterations)\n",
    "    #create a dataframe to store the predicted labels.\n",
    "    pred_labels = pd.DataFrame(columns=[\"label\"])\n",
    "        \n",
    "    \n",
    "    \n",
    "    #loop through every data sample, and multiply the trained weights by the kernel data.\n",
    "    for i in range(len(data)):\n",
    "        temp = {}\n",
    "        for j in data[0].unique():\n",
    "            temp[j] = np.dot(weights[j], data_rbf.T)[i]\n",
    "        #utilise the softmax function \n",
    "        temp = softMaxLoss(temp)\n",
    "        \n",
    "        #record the highest value labels as the predicted labels.\n",
    "        pred_labels.loc[len(pred_labels)] = [max(temp, key = temp.get)]\n",
    "    #instantiate the correct label counter    \n",
    "    corr = 0\n",
    "    #break down of the errors\n",
    "    print(\"breakdown of predicted values: \")\n",
    "    print(pred_labels[\"label\"].value_counts())\n",
    "    print(\"breakdown of actual values: \")\n",
    "    print(data[0].value_counts())\n",
    "    #calculate the accuracy\n",
    "    for i in range(len(pred_labels)):\n",
    "        if pred_labels[\"label\"][i] == data[0][i]:\n",
    "            corr +=1\n",
    "    acc = corr/len(pred_labels)\n",
    "    print(\"accuracy: \", acc)\n",
    "    #output the accuracy\n",
    "    return acc"
   ]
  },
  {
   "cell_type": "markdown",
   "metadata": {},
   "source": [
    "The function defined below was not used in the final grid search. This is because the lambda range specified by the function is too large, and the run time of the grid search is too long."
   ]
  },
  {
   "cell_type": "code",
   "execution_count": 18,
   "metadata": {},
   "outputs": [],
   "source": [
    "#The function identifies the required sigma range for the grid search. The produced results are\n",
    "#later used to calculate the lambda range.\n",
    "def FindSigmaRange(data):\n",
    "    var_range = []\n",
    "    #extract the feature vectors, and center them.\n",
    "    data = data.iloc[:,1:]\n",
    "    data = data.apply(lambda x: x-x.mean())\n",
    "    X = data.to_numpy()\n",
    "    #find the min and max variance and return it.\n",
    "    var = np.var(X, axis = 1)\n",
    "    var_range.append(var.max())\n",
    "    var_range.append(var.min())\n",
    "    return var_range"
   ]
  },
  {
   "cell_type": "markdown",
   "metadata": {},
   "source": [
    "The following function implements the grid search, in order to find the optimal sigma value (which is used to find lambda utilsed in the RBF kernel mapping) and the minimum dimensionality required in order to achieve separability in the dataset."
   ]
  },
  {
   "cell_type": "code",
   "execution_count": 33,
   "metadata": {},
   "outputs": [],
   "source": [
    "#The function inputs are the dataset, the list containing min and max values of sigma to be used, \n",
    "#and the lower bound of the dimensionality.\n",
    "def KernelGridSearch(data, sigma_minmax, dim_range):\n",
    "    #the small constant to cover the full range of values\n",
    "    epsilon = 0.05\n",
    "    #the grid search results will be stored as a dataframe\n",
    "    results = pd.DataFrame(columns = [\"Accuracy\", \"dimension\", \"lambda\"])\n",
    "    #The list of sigma values which need to be tested is generated by starting with the min value\n",
    "    #and incrementing the sigma, until the maximum is achieved.\n",
    "    sigma_range = []\n",
    "    v = sigma_minmax[1]-epsilon\n",
    "    while v <= sigma_minmax[0]+epsilon:\n",
    "        sigma_range.append(v)\n",
    "        v+=0.079\n",
    "     #The 2 nested for loops perform the grid search. It takes a while for the function to execute,\n",
    "    #so it has been optimised to run faster. In particular, the kernel is calculated for a specific\n",
    "    #value of sigma and then is cropped inside the second for loop to reducee the dimensionality.\n",
    "    \n",
    "    #loop through the sigma range\n",
    "    for i in sigma_range:\n",
    "        #calculate the lambda when a particular sigma is used, and return its value along \n",
    "        #with the mapped data\n",
    "        kernel_data, lam = kernelRBF(data, sig = i)\n",
    "        #Vary the number of dimensions\n",
    "        for j in dim_range:\n",
    "            with io.capture_output() as captured:\n",
    "                acc = multiClassPerceptronKernel(data, kernel_data, num_pc = j, sig = i)\n",
    "                results.loc[len(results)] = [acc, j, lam]\n",
    "    #output the results            \n",
    "    return results     "
   ]
  },
  {
   "cell_type": "code",
   "execution_count": 34,
   "metadata": {},
   "outputs": [
    {
     "name": "stdout",
     "output_type": "stream",
     "text": [
      "Kernel created and normalized\n",
      "Kernel shape:  (329, 329)\n",
      "Kernel created and normalized\n",
      "Kernel shape:  (329, 329)\n",
      "Kernel created and normalized\n",
      "Kernel shape:  (329, 329)\n",
      "Kernel created and normalized\n",
      "Kernel shape:  (329, 329)\n",
      "Kernel created and normalized\n",
      "Kernel shape:  (329, 329)\n",
      "Kernel created and normalized\n",
      "Kernel shape:  (329, 329)\n",
      "Kernel created and normalized\n",
      "Kernel shape:  (329, 329)\n",
      "Kernel created and normalized\n",
      "Kernel shape:  (329, 329)\n",
      "Kernel created and normalized\n",
      "Kernel shape:  (329, 329)\n",
      "Kernel created and normalized\n",
      "Kernel shape:  (329, 329)\n",
      "Kernel created and normalized\n",
      "Kernel shape:  (329, 329)\n",
      "Kernel created and normalized\n",
      "Kernel shape:  (329, 329)\n"
     ]
    }
   ],
   "source": [
    "#Executing the grid search. The function takes a long time to exhaustively loop through all of the\n",
    "#parameter spaces, even after some optimisation.\n",
    "sigma_minmax = [1.11, 0.32]\n",
    "dim_range = list(range(150, 166))\n",
    "plotting_data = KernelGridSearch(data, sigma_minmax, dim_range)"
   ]
  },
  {
   "cell_type": "code",
   "execution_count": 35,
   "metadata": {},
   "outputs": [
    {
     "data": {
      "text/html": [
       "<div>\n",
       "<style scoped>\n",
       "    .dataframe tbody tr th:only-of-type {\n",
       "        vertical-align: middle;\n",
       "    }\n",
       "\n",
       "    .dataframe tbody tr th {\n",
       "        vertical-align: top;\n",
       "    }\n",
       "\n",
       "    .dataframe thead th {\n",
       "        text-align: right;\n",
       "    }\n",
       "</style>\n",
       "<table border=\"1\" class=\"dataframe\">\n",
       "  <thead>\n",
       "    <tr style=\"text-align: right;\">\n",
       "      <th></th>\n",
       "      <th>Accuracy</th>\n",
       "      <th>dimension</th>\n",
       "      <th>lambda</th>\n",
       "    </tr>\n",
       "  </thead>\n",
       "  <tbody>\n",
       "    <tr>\n",
       "      <th>0</th>\n",
       "      <td>0.957447</td>\n",
       "      <td>150.0</td>\n",
       "      <td>6.858711</td>\n",
       "    </tr>\n",
       "    <tr>\n",
       "      <th>1</th>\n",
       "      <td>0.960486</td>\n",
       "      <td>151.0</td>\n",
       "      <td>6.858711</td>\n",
       "    </tr>\n",
       "    <tr>\n",
       "      <th>2</th>\n",
       "      <td>0.963526</td>\n",
       "      <td>152.0</td>\n",
       "      <td>6.858711</td>\n",
       "    </tr>\n",
       "    <tr>\n",
       "      <th>3</th>\n",
       "      <td>0.966565</td>\n",
       "      <td>153.0</td>\n",
       "      <td>6.858711</td>\n",
       "    </tr>\n",
       "    <tr>\n",
       "      <th>4</th>\n",
       "      <td>0.969605</td>\n",
       "      <td>154.0</td>\n",
       "      <td>6.858711</td>\n",
       "    </tr>\n",
       "    <tr>\n",
       "      <th>...</th>\n",
       "      <td>...</td>\n",
       "      <td>...</td>\n",
       "      <td>...</td>\n",
       "    </tr>\n",
       "    <tr>\n",
       "      <th>187</th>\n",
       "      <td>0.987842</td>\n",
       "      <td>161.0</td>\n",
       "      <td>0.385410</td>\n",
       "    </tr>\n",
       "    <tr>\n",
       "      <th>188</th>\n",
       "      <td>0.990881</td>\n",
       "      <td>162.0</td>\n",
       "      <td>0.385410</td>\n",
       "    </tr>\n",
       "    <tr>\n",
       "      <th>189</th>\n",
       "      <td>0.993921</td>\n",
       "      <td>163.0</td>\n",
       "      <td>0.385410</td>\n",
       "    </tr>\n",
       "    <tr>\n",
       "      <th>190</th>\n",
       "      <td>0.996960</td>\n",
       "      <td>164.0</td>\n",
       "      <td>0.385410</td>\n",
       "    </tr>\n",
       "    <tr>\n",
       "      <th>191</th>\n",
       "      <td>0.996960</td>\n",
       "      <td>165.0</td>\n",
       "      <td>0.385410</td>\n",
       "    </tr>\n",
       "  </tbody>\n",
       "</table>\n",
       "<p>192 rows × 3 columns</p>\n",
       "</div>"
      ],
      "text/plain": [
       "     Accuracy  dimension    lambda\n",
       "0    0.957447      150.0  6.858711\n",
       "1    0.960486      151.0  6.858711\n",
       "2    0.963526      152.0  6.858711\n",
       "3    0.966565      153.0  6.858711\n",
       "4    0.969605      154.0  6.858711\n",
       "..        ...        ...       ...\n",
       "187  0.987842      161.0  0.385410\n",
       "188  0.990881      162.0  0.385410\n",
       "189  0.993921      163.0  0.385410\n",
       "190  0.996960      164.0  0.385410\n",
       "191  0.996960      165.0  0.385410\n",
       "\n",
       "[192 rows x 3 columns]"
      ]
     },
     "execution_count": 35,
     "metadata": {},
     "output_type": "execute_result"
    }
   ],
   "source": [
    "#the resulting dataframe\n",
    "plotting_data"
   ]
  },
  {
   "cell_type": "code",
   "execution_count": 36,
   "metadata": {},
   "outputs": [],
   "source": [
    "plt_data = plotting_data.copy()"
   ]
  },
  {
   "cell_type": "code",
   "execution_count": 37,
   "metadata": {},
   "outputs": [],
   "source": [
    "#rounding the values to make the plot more clear.\n",
    "plt_data = plt_data.round(3)"
   ]
  },
  {
   "cell_type": "code",
   "execution_count": 42,
   "metadata": {
    "scrolled": true
   },
   "outputs": [
    {
     "data": {
      "text/plain": [
       "<AxesSubplot:xlabel='lambda', ylabel='dimension'>"
      ]
     },
     "execution_count": 42,
     "metadata": {},
     "output_type": "execute_result"
    },
    {
     "data": {
      "image/png": "[encoded data removed]",
      "text/plain": [
       "<Figure size 1008x648 with 2 Axes>"
      ]
     },
     "metadata": {},
     "output_type": "display_data"
    }
   ],
   "source": [
    "pivot = plt_data.pivot(index = \"dimension\", columns = \"lambda\", values = \"Accuracy\" )\n",
    "sns.heatmap(pivot, annot = True, fmt=\"g\")"
   ]
  },
  {
   "cell_type": "markdown",
   "metadata": {},
   "source": [
    "The plot above is a heatmap showing the prediction accuracy of the multi-class perceptron in the feature space defined by the RBF kernel. The x-axis of the map shows the range of lambda values covered by the grid search, and the y-axis shows a subset of the dimensionality of the kernel.\n",
    "\n",
    "From the heatmap, it is evident that the lowest dimensionality of the new feature vectors that lead to separability is 164. Furthermore, the lowest lambda value that leads to separability is 0.445 \n",
    "\n",
    "Since it is possible to achieve 100% prediction accuracy with a certain number of feature vectors, the dataset is separable in the feature space defined by non-linear PCA. \n",
    "\n"
   ]
  }
 ],
 "metadata": {
  "kernelspec": {
   "display_name": "Python 3",
   "language": "python",
   "name": "python3"
  },
  "language_info": {
   "codemirror_mode": {
    "name": "ipython",
    "version": 3
   },
   "file_extension": ".py",
   "mimetype": "text/x-python",
   "name": "python",
   "nbconvert_exporter": "python",
   "pygments_lexer": "ipython3",
   "version": "3.8.5"
  }
 },
 "nbformat": 4,
 "nbformat_minor": 4
}
